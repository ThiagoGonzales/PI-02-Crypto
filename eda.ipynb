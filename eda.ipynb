{
 "cells": [
  {
   "cell_type": "markdown",
   "metadata": {},
   "source": [
    "# EDA"
   ]
  },
  {
   "cell_type": "markdown",
   "metadata": {},
   "source": [
    "Aclaración sobre la Inconveniencia de Realizar un Análisis Exploratorio de Datos (EDA) Convencional:\n",
    "\n",
    "En el contexto de la manipulación de criptomonedas a través de una API, resulta superfluo llevar a cabo la eliminación de duplicados o registros nulos. Asimismo, es erróneo descartar valores atípicos (outliers) dado que nos encontramos tratando con monedas de alta volatilidad. La supresión de información en este entorno puede desencadenar consecuencias importantes"
   ]
  },
  {
   "cell_type": "code",
   "execution_count": 1,
   "metadata": {},
   "outputs": [],
   "source": [
    "csv = [\n",
    "       'btc_csv\\\\bitcoin.csv', 'btc_csv\\\\dash.csv', 'btc_csv\\\\dogecoin.csv','btc_csv\\\\ethereum.csv',\n",
    "       'btc_csv\\\\monero.csv','btc_csv\\\\ripple.csv','btc_csv\\\\tether.csv','btc_csv\\\\true_usd.csv',\n",
    "       'btc_csv\\\\usd_coin.csv','btc_csv\\\\zcash.csv'       \n",
    "       ]"
   ]
  },
  {
   "cell_type": "markdown",
   "metadata": {},
   "source": [
    "### Verificamos duplicados y nulos"
   ]
  },
  {
   "cell_type": "code",
   "execution_count": 3,
   "metadata": {},
   "outputs": [],
   "source": [
    "import pandas as pd\n",
    "from sklearn.preprocessing import MinMaxScaler"
   ]
  },
  {
   "cell_type": "code",
   "execution_count": 6,
   "metadata": {},
   "outputs": [
    {
     "name": "stdout",
     "output_type": "stream",
     "text": [
      "Total de valores nulos en todos los archivos CSV: 0\n",
      "Total de valores duplicados en todos los archivos CSV: 0\n"
     ]
    }
   ],
   "source": [
    "total_nulls = 0\n",
    "total_duplicates = 0\n",
    "\n",
    "for file in csv:\n",
    "    df = pd.read_csv(file)\n",
    "    total_nulls += df.isnull().sum().sum()\n",
    "    total_duplicates += df.duplicated().sum()\n",
    "\n",
    "print(\"Total de valores nulos en todos los archivos CSV:\", total_nulls)\n",
    "print(\"Total de valores duplicados en todos los archivos CSV:\", total_duplicates)"
   ]
  },
  {
   "cell_type": "code",
   "execution_count": null,
   "metadata": {},
   "outputs": [],
   "source": [
    "df2 = pd.read_csv('btc_csv\\\\bitcoin-energy-consum.csv', sep=';', thousands='.', decimal=',')\n",
    "\n",
    "df2['DateTime'] = pd.to_datetime(df2['DateTime']).dt.date\n",
    "df2.drop('Unnamed: 0', axis=1, inplace=True)\n",
    "\n",
    "df2.to_csv('btc_csv\\\\bitcoin-energy-consum.csv')"
   ]
  },
  {
   "cell_type": "code",
   "execution_count": 4,
   "metadata": {},
   "outputs": [],
   "source": [
    "df_consumo = pd.read_csv('btc_csv\\\\bitcoin-energy-consum.csv')\n",
    "df_precio = pd.read_csv('btc_csv\\\\bitcoin.csv')\n",
    "\n",
    "df_consumo.rename(columns={'DateTime':'date'}, inplace=True)\n",
    "df_consumo.drop('Unnamed: 0', axis=1, inplace=True)\n",
    "\n",
    "scaler = MinMaxScaler()\n",
    "df_consumo[['Estimated TWh per Year', 'Minimum TWh per Year']] = scaler.fit_transform(df_consumo[['Estimated TWh per Year', 'Minimum TWh per Year']])\n",
    "df_precio['price'] = scaler.fit_transform(df_precio[['price']])\n",
    "\n",
    "combined_df = pd.merge(df_consumo, df_precio, on='date', how='inner')\n",
    "\n",
    "combined_df.to_csv('btc_csv\\\\bitcoin-kpi.csv')"
   ]
  },
  {
   "cell_type": "code",
   "execution_count": 5,
   "metadata": {},
   "outputs": [
    {
     "data": {
      "text/html": [
       "<div>\n",
       "<style scoped>\n",
       "    .dataframe tbody tr th:only-of-type {\n",
       "        vertical-align: middle;\n",
       "    }\n",
       "\n",
       "    .dataframe tbody tr th {\n",
       "        vertical-align: top;\n",
       "    }\n",
       "\n",
       "    .dataframe thead th {\n",
       "        text-align: right;\n",
       "    }\n",
       "</style>\n",
       "<table border=\"1\" class=\"dataframe\">\n",
       "  <thead>\n",
       "    <tr style=\"text-align: right;\">\n",
       "      <th></th>\n",
       "      <th>date</th>\n",
       "      <th>Estimated TWh per Year</th>\n",
       "      <th>Minimum TWh per Year</th>\n",
       "      <th>price</th>\n",
       "    </tr>\n",
       "  </thead>\n",
       "  <tbody>\n",
       "    <tr>\n",
       "      <th>0</th>\n",
       "      <td>2020-01-01</td>\n",
       "      <td>0.326993</td>\n",
       "      <td>0.354397</td>\n",
       "      <td>0.034556</td>\n",
       "    </tr>\n",
       "    <tr>\n",
       "      <th>1</th>\n",
       "      <td>2020-01-02</td>\n",
       "      <td>0.326993</td>\n",
       "      <td>0.384404</td>\n",
       "      <td>0.034533</td>\n",
       "    </tr>\n",
       "    <tr>\n",
       "      <th>2</th>\n",
       "      <td>2020-01-03</td>\n",
       "      <td>0.326993</td>\n",
       "      <td>0.398474</td>\n",
       "      <td>0.030860</td>\n",
       "    </tr>\n",
       "    <tr>\n",
       "      <th>3</th>\n",
       "      <td>2020-01-04</td>\n",
       "      <td>0.326993</td>\n",
       "      <td>0.408254</td>\n",
       "      <td>0.036237</td>\n",
       "    </tr>\n",
       "    <tr>\n",
       "      <th>4</th>\n",
       "      <td>2020-01-05</td>\n",
       "      <td>0.326993</td>\n",
       "      <td>0.418376</td>\n",
       "      <td>0.037052</td>\n",
       "    </tr>\n",
       "    <tr>\n",
       "      <th>...</th>\n",
       "      <td>...</td>\n",
       "      <td>...</td>\n",
       "      <td>...</td>\n",
       "      <td>...</td>\n",
       "    </tr>\n",
       "    <tr>\n",
       "      <th>728</th>\n",
       "      <td>2021-12-27</td>\n",
       "      <td>1.000000</td>\n",
       "      <td>0.451209</td>\n",
       "      <td>0.732136</td>\n",
       "    </tr>\n",
       "    <tr>\n",
       "      <th>729</th>\n",
       "      <td>2021-12-28</td>\n",
       "      <td>1.000000</td>\n",
       "      <td>0.455121</td>\n",
       "      <td>0.730877</td>\n",
       "    </tr>\n",
       "    <tr>\n",
       "      <th>730</th>\n",
       "      <td>2021-12-29</td>\n",
       "      <td>1.000000</td>\n",
       "      <td>0.456820</td>\n",
       "      <td>0.682160</td>\n",
       "    </tr>\n",
       "    <tr>\n",
       "      <th>731</th>\n",
       "      <td>2021-12-30</td>\n",
       "      <td>1.000000</td>\n",
       "      <td>0.453742</td>\n",
       "      <td>0.662696</td>\n",
       "    </tr>\n",
       "    <tr>\n",
       "      <th>732</th>\n",
       "      <td>2021-12-31</td>\n",
       "      <td>1.000000</td>\n",
       "      <td>0.450371</td>\n",
       "      <td>0.673639</td>\n",
       "    </tr>\n",
       "  </tbody>\n",
       "</table>\n",
       "<p>733 rows × 4 columns</p>\n",
       "</div>"
      ],
      "text/plain": [
       "           date  Estimated TWh per Year  Minimum TWh per Year     price\n",
       "0    2020-01-01                0.326993              0.354397  0.034556\n",
       "1    2020-01-02                0.326993              0.384404  0.034533\n",
       "2    2020-01-03                0.326993              0.398474  0.030860\n",
       "3    2020-01-04                0.326993              0.408254  0.036237\n",
       "4    2020-01-05                0.326993              0.418376  0.037052\n",
       "..          ...                     ...                   ...       ...\n",
       "728  2021-12-27                1.000000              0.451209  0.732136\n",
       "729  2021-12-28                1.000000              0.455121  0.730877\n",
       "730  2021-12-29                1.000000              0.456820  0.682160\n",
       "731  2021-12-30                1.000000              0.453742  0.662696\n",
       "732  2021-12-31                1.000000              0.450371  0.673639\n",
       "\n",
       "[733 rows x 4 columns]"
      ]
     },
     "execution_count": 5,
     "metadata": {},
     "output_type": "execute_result"
    }
   ],
   "source": [
    "combined_df"
   ]
  }
 ],
 "metadata": {
  "kernelspec": {
   "display_name": "btc_venv",
   "language": "python",
   "name": "python3"
  },
  "language_info": {
   "codemirror_mode": {
    "name": "ipython",
    "version": 3
   },
   "file_extension": ".py",
   "mimetype": "text/x-python",
   "name": "python",
   "nbconvert_exporter": "python",
   "pygments_lexer": "ipython3",
   "version": "3.10.11"
  },
  "orig_nbformat": 4
 },
 "nbformat": 4,
 "nbformat_minor": 2
}
