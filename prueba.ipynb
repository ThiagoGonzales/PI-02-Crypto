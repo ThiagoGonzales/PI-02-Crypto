{
 "cells": [
  {
   "cell_type": "code",
   "execution_count": 1,
   "metadata": {},
   "outputs": [],
   "source": [
    "import pandas as pd"
   ]
  },
  {
   "cell_type": "code",
   "execution_count": 3,
   "metadata": {},
   "outputs": [],
   "source": [
    "from pycoingecko.pycoingecko import CoinGeckoAPI\n",
    "cg = CoinGeckoAPI()"
   ]
  },
  {
   "cell_type": "code",
   "execution_count": 8,
   "metadata": {},
   "outputs": [],
   "source": [
    "def cripto(cripto):\n",
    "    moneda = cg.get_coin_market_chart_range_by_id(cripto, 'usd', '1577761200', '1640908800')\n",
    "    moneda = pd.DataFrame(moneda)\n",
    "    columns_to_drop = ['market_caps','total_volumes']\n",
    "    moneda.drop(columns=columns_to_drop, axis=1, inplace=True)\n",
    "    moneda[['date', 'price']] = pd.DataFrame(moneda['prices'].tolist(), columns=['date', 'price'])\n",
    "    moneda = moneda.drop(columns=['prices'])\n",
    "    moneda['date'] = pd.to_datetime(moneda['date'], unit='ms')\n",
    "    nombre_archivo = f'btc_csv/{cripto}.csv'\n",
    "    moneda.to_csv(nombre_archivo, index=False)\n",
    "    return moneda\n",
    "\n",
    "ethereum = cripto('ethereum')\n",
    "bitcoin = cripto('bitcoin')\n",
    "tether = cripto('tether')\n",
    "true_usd = cripto('true-usd')\n",
    "usd_coin = cripto('usd-coin')\n",
    "dogecoin = cripto('dogecoin')\n",
    "zcash = cripto('zcash')\n",
    "monero = cripto('monero')\n"
   ]
  }
 ],
 "metadata": {
  "kernelspec": {
   "display_name": "venv",
   "language": "python",
   "name": "python3"
  },
  "language_info": {
   "codemirror_mode": {
    "name": "ipython",
    "version": 3
   },
   "file_extension": ".py",
   "mimetype": "text/x-python",
   "name": "python",
   "nbconvert_exporter": "python",
   "pygments_lexer": "ipython3",
   "version": "3.10.11"
  },
  "orig_nbformat": 4
 },
 "nbformat": 4,
 "nbformat_minor": 2
}
